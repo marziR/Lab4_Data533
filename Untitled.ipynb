{
 "cells": [
  {
   "cell_type": "code",
   "execution_count": 1,
   "metadata": {},
   "outputs": [],
   "source": [
    "def bmicat(BMI):\n",
    "    try:\n",
    "        if (BMI > 0 and BMI < 18.5):\n",
    "            return 'Underweight'\n",
    "        elif (BMI >= 18.5 and BMI <= 24.9):\n",
    "            return 'Healthy'\n",
    "        elif (BMI >= 25 and BMI <30):\n",
    "            return 'Overweight'\n",
    "        elif (BMI >= 30 and BMI < 35):\n",
    "            return 'Obese'\n",
    "        elif (BMI >= 35):\n",
    "            return 'Morbidly Obese'\n",
    "        elif (BMI == 0):\n",
    "            raise ValueError\n",
    "        elif type(BMI) == str:\n",
    "            raise TypeError\n",
    "    except ValueError:\n",
    "        return 'Invalid BMI'\n",
    "    except TypeError:\n",
    "        return 'Invalid Data Type'"
   ]
  },
  {
   "cell_type": "code",
   "execution_count": null,
   "metadata": {},
   "outputs": [],
   "source": []
  },
  {
   "cell_type": "markdown",
   "metadata": {},
   "source": [
    "bmicat(67)"
   ]
  },
  {
   "cell_type": "code",
   "execution_count": 2,
   "metadata": {},
   "outputs": [
    {
     "data": {
      "text/plain": [
       "'Morbidly Obese'"
      ]
     },
     "execution_count": 2,
     "metadata": {},
     "output_type": "execute_result"
    }
   ],
   "source": [
    "bmicat(67)"
   ]
  },
  {
   "cell_type": "code",
   "execution_count": 3,
   "metadata": {},
   "outputs": [
    {
     "data": {
      "text/plain": [
       "'Invalid Data Type'"
      ]
     },
     "execution_count": 3,
     "metadata": {},
     "output_type": "execute_result"
    }
   ],
   "source": [
    "bmicat('jhg')"
   ]
  },
  {
   "cell_type": "code",
   "execution_count": 4,
   "metadata": {},
   "outputs": [
    {
     "data": {
      "text/plain": [
       "'Invalid BMI'"
      ]
     },
     "execution_count": 4,
     "metadata": {},
     "output_type": "execute_result"
    }
   ],
   "source": [
    "bmicat(0)"
   ]
  },
  {
   "cell_type": "code",
   "execution_count": null,
   "metadata": {},
   "outputs": [],
   "source": []
  }
 ],
 "metadata": {
  "kernelspec": {
   "display_name": "Python 3",
   "language": "python",
   "name": "python3"
  },
  "language_info": {
   "codemirror_mode": {
    "name": "ipython",
    "version": 3
   },
   "file_extension": ".py",
   "mimetype": "text/x-python",
   "name": "python",
   "nbconvert_exporter": "python",
   "pygments_lexer": "ipython3",
   "version": "3.6.5"
  }
 },
 "nbformat": 4,
 "nbformat_minor": 2
}
