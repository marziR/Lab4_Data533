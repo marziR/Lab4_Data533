{
 "cells": [
  {
   "cell_type": "code",
   "execution_count": 1,
   "metadata": {},
   "outputs": [
    {
     "name": "stderr",
     "output_type": "stream",
     "text": [
      "...."
     ]
    },
    {
     "name": "stdout",
     "output_type": "stream",
     "text": [
      "setupClass\n",
      "Set Up\n",
      "Tear Down\n",
      "teardownClass\n",
      "setupClass\n",
      "Set Up\n",
      "Tear Down\n",
      "teardownClass\n",
      "setupClass\n",
      "Set Up\n",
      "Tear Down\n",
      "teardownClass\n",
      "setupClass\n",
      "Set Up\n",
      "Tear Down\n",
      "teardownClass\n",
      "<unittest.runner.TextTestResult run=4 errors=0 failures=0>\n"
     ]
    },
    {
     "name": "stderr",
     "output_type": "stream",
     "text": [
      "\n",
      "----------------------------------------------------------------------\n",
      "Ran 4 tests in 0.007s\n",
      "\n",
      "OK\n"
     ]
    }
   ],
   "source": [
    "import unittest \n",
    "from TestModule1 import TestCalc \n",
    "from TestModule2 import TestBmiCat\n",
    "from TestModule3 import TestNetSalary\n",
    "from TestModule4 import TestAgeCalc\n",
    "\n",
    "\n",
    "def my_suite(): \n",
    "    suite = unittest.TestSuite() \n",
    "    result = unittest.TestResult() \n",
    "    suite.addTest(unittest.makeSuite(TestCalc)) \n",
    "    suite.addTest(unittest.makeSuite(TestBmiCat))\n",
    "    suite.addTest(unittest.makeSuite(TestAgeCalc)) \n",
    "    suite.addTest(unittest.makeSuite(TestNetSalary))\n",
    "    runner = unittest.TextTestRunner() \n",
    "    print(runner.run(suite)) \n",
    "my_suite()"
   ]
  },
  {
   "cell_type": "code",
   "execution_count": null,
   "metadata": {},
   "outputs": [],
   "source": []
  },
  {
   "cell_type": "code",
   "execution_count": null,
   "metadata": {},
   "outputs": [],
   "source": []
  }
 ],
 "metadata": {
  "kernelspec": {
   "display_name": "Python 3",
   "language": "python",
   "name": "python3"
  },
  "language_info": {
   "codemirror_mode": {
    "name": "ipython",
    "version": 3
   },
   "file_extension": ".py",
   "mimetype": "text/x-python",
   "name": "python",
   "nbconvert_exporter": "python",
   "pygments_lexer": "ipython3",
   "version": "3.6.5"
  }
 },
 "nbformat": 4,
 "nbformat_minor": 2
}
